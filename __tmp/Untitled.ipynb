{
 "cells": [
  {
   "cell_type": "code",
   "execution_count": 30,
   "metadata": {},
   "outputs": [],
   "source": [
    "import xml.etree.ElementTree as ET\n"
   ]
  },
  {
   "cell_type": "code",
   "execution_count": 57,
   "metadata": {},
   "outputs": [],
   "source": [
    "xmlData = \"\"\"<data> \n",
    "    <Modules>\n",
    "        <Module type=\"RadarLogic\" name=\"item1\"></Module>\n",
    "        <Module type=\"RadarManager\" name=\"item2\"></Module>\n",
    "    </Modules>\n",
    "</data>\"\"\""
   ]
  },
  {
   "cell_type": "code",
   "execution_count": 58,
   "metadata": {},
   "outputs": [],
   "source": [
    "#tree = ET.parse('country_data.xml')\n",
    "#root = tree.getroot()\n",
    "\n",
    "mydoc = ET.fromstring(xmlData)\n",
    "\n",
    "items = mydoc.find('Modules')\n",
    ""
   ]
  },
  {
   "cell_type": "code",
   "execution_count": 59,
   "metadata": {},
   "outputs": [
    {
     "output_type": "stream",
     "name": "stdout",
     "text": "{'type': 'RadarLogic', 'name': 'item1'}\ntype RadarLogic\nname item1\n{'type': 'RadarManager', 'name': 'item2'}\ntype RadarManager\nname item2\n"
    }
   ],
   "source": [
    "for item in items:\n",
    "    print(item.attrib)\n",
    "    for key in item.attrib:\n",
    "        print (key, item.attrib[key])"
   ]
  },
  {
   "cell_type": "code",
   "execution_count": 21,
   "metadata": {},
   "outputs": [],
   "source": [
    "\n",
    "\n",
    "class A:\n",
    "    def testfunc(self):\n",
    "        print(\"testfunc\")\n",
    "\n",
    "class B(A):\n",
    "    def testb(self):\n",
    "        print(\"b\")\n",
    "\n",
    "class C:\n",
    "    def xxx(self):\n",
    "        pass\n"
   ]
  },
  {
   "cell_type": "code",
   "execution_count": 22,
   "metadata": {},
   "outputs": [],
   "source": [
    "a = A()\n",
    "b = B()\n",
    "c = C()"
   ]
  },
  {
   "cell_type": "code",
   "execution_count": 9,
   "metadata": {},
   "outputs": [
    {
     "output_type": "stream",
     "name": "stdout",
     "text": "testfunc\nb\n"
    }
   ],
   "source": [
    "a.testfunc()\n",
    "b.testb()\n",
    "\n"
   ]
  },
  {
   "cell_type": "code",
   "execution_count": 24,
   "metadata": {},
   "outputs": [
    {
     "output_type": "execute_result",
     "data": {
      "text/plain": "False"
     },
     "metadata": {},
     "execution_count": 24
    }
   ],
   "source": [
    "#isinstance(b, B)\n",
    "\n",
    "isinstance(b, C)\n"
   ]
  },
  {
   "cell_type": "code",
   "execution_count": null,
   "metadata": {},
   "outputs": [],
   "source": []
  }
 ],
 "metadata": {
  "kernelspec": {
   "display_name": "Python 3",
   "language": "python",
   "name": "python3"
  },
  "language_info": {
   "codemirror_mode": {
    "name": "ipython",
    "version": 3
   },
   "file_extension": ".py",
   "mimetype": "text/x-python",
   "name": "python",
   "nbconvert_exporter": "python",
   "pygments_lexer": "ipython3",
   "version": "3.7.4-final"
  }
 },
 "nbformat": 4,
 "nbformat_minor": 2
}